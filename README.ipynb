{
 "cells": [
  {
   "cell_type": "markdown",
   "metadata": {},
   "source": [
    "# Chapter 3\n",
    "\n",
    "## 목적\n",
    "\n",
    "1. pmf 정의를 안다.\n",
    "1. pmf를 이용하여 문제를 해결할 수 있다.\n",
    "1. pmf를 이용한 분석 코드를 만들 수 있다.\n",
    "\n",
    "## 목표\n",
    "\n",
    "1. pmf 학습\n",
    "1. pmf 수식 및 코드 예시\n",
    "1. 연습문제 풀이\n",
    "\n",
    "## 실습 방법\n",
    "\n",
    "1. 브라우저로 접속: http://49.170.15.37:8080/tree/chap3\n",
    "1. 이름이 숫자인 directory 선택하여 자신의 이름으로 바꾸기\n",
    "1. 자신 directory 안의 다음 파일 학습\n",
    "  1. pmf.ipynb: pmf, 관련 수식, 코드 예시\n",
    "  1. chap3ex1.ipynb: 연습문제 1\n",
    "  1. chap3ex2.ipynb: 연습문제 2\n",
    "  1. chap3ex3.ipynb: 연습문제 3\n",
    "  1. chap3ex4.ipynb: 연습문제 4\n"
   ]
  }
 ],
 "metadata": {
  "kernelspec": {
   "display_name": "Python 2",
   "language": "python",
   "name": "python2"
  },
  "language_info": {
   "codemirror_mode": {
    "name": "ipython",
    "version": 2
   },
   "file_extension": ".py",
   "mimetype": "text/x-python",
   "name": "python",
   "nbconvert_exporter": "python",
   "pygments_lexer": "ipython2",
   "version": "2.7.11"
  }
 },
 "nbformat": 4,
 "nbformat_minor": 0
}
