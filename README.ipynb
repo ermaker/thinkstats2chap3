{
 "cells": [
  {
   "cell_type": "markdown",
   "metadata": {},
   "source": [
    "# Chapter 3\n",
    "\n",
    "## 목적\n",
    "\n",
    "1. pmf 정의를 안다.\n",
    "1. pmf를 사용하여 문제를 해결할 수 있다.\n",
    "1. 코딩 pmf을 통한 분석\n",
    "\n",
    "## 목표\n",
    "\n",
    "1. pmf 학습\n",
    "1. 연습문제 풀이\n",
    "\n",
    "## 실습 방법"
   ]
  }
 ],
 "metadata": {
  "kernelspec": {
   "display_name": "Python 2",
   "language": "python",
   "name": "python2"
  },
  "language_info": {
   "codemirror_mode": {
    "name": "ipython",
    "version": 2
   },
   "file_extension": ".py",
   "mimetype": "text/x-python",
   "name": "python",
   "nbconvert_exporter": "python",
   "pygments_lexer": "ipython2",
   "version": "2.7.12"
  }
 },
 "nbformat": 4,
 "nbformat_minor": 0
}
