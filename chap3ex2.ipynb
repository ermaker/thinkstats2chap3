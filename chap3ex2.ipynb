{
 "cells": [
  {
   "cell_type": "markdown",
   "metadata": {},
   "source": [
    "# Exercise 2\n",
    "\n",
    "2.7 절에서 구성요소를 더해가고 n으로 나눠서 표본 평균을 계산했다. 만약 PMF가 주어지면, 여전히 평균을 계산할 수 있으나, 과정은 다소 차이가 난다:\n",
    "$$\\bar{x} = \\sum_i p_i x_i$$\n",
    "여기서, $x_i$는 PMF에 있는 유일한 값이고, $p_i = PMF(x_i)$. 마찬가지로, 다음과 같이 분산을 계산할 수 있다:\n",
    "$$S^2 = \\sum_i p_i (x_i − \\bar{x})^2$$\n",
    "Pmf 객체를 인자로 받아 평균과 분산을 계산하는 함수를 PmfMean 와 PmfVar 으로 이름지어 작성하시오. 작성한 메쏘드를 테스트하기 위해서, Pmf에서 제공하는 Mean, Var 메쏘드와 일치하는지 검사하라."
   ]
  }
 ],
 "metadata": {
  "kernelspec": {
   "display_name": "Python 2",
   "language": "python",
   "name": "python2"
  },
  "language_info": {
   "codemirror_mode": {
    "name": "ipython",
    "version": 2
   },
   "file_extension": ".py",
   "mimetype": "text/x-python",
   "name": "python",
   "nbconvert_exporter": "python",
   "pygments_lexer": "ipython2",
   "version": "2.7.12"
  }
 },
 "nbformat": 4,
 "nbformat_minor": 0
}
