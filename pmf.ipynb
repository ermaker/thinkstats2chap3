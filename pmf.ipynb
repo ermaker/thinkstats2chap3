{
 "cells": [
  {
   "cell_type": "code",
   "execution_count": 1,
   "metadata": {
    "collapsed": false
   },
   "outputs": [],
   "source": [
    "%matplotlib inline\n",
    "import numpy as np\n",
    "import pandas as pd"
   ]
  },
  {
   "cell_type": "markdown",
   "metadata": {},
   "source": [
    "# pmf\n",
    "\n",
    "## 정의\n",
    "\n",
    "pmf: probability mass function, 확률 질량 함수\n",
    "\n",
    "분포를 표현하는 또다른 방식은 확률 질량 함수(probability mass function) (PMF)로 각 값을 확률로 매핑한다. 확률(probability)은 표본 크기 n의 일부로서 표현되는 빈도다. 빈도에서 확률을 얻기 위해서, n으로 나누는데 이를 정규화(normalization)라고 부른다.\n",
    "\n",
    "## 예시\n",
    "\n",
    "정육면체 주사위의 여섯 면 중 3개의 면에는 눈금이 1개, 2개의 면에는 눈금이 2개, 1개의 면에는 눈금이 3개 그려져 있다."
   ]
  },
  {
   "cell_type": "code",
   "execution_count": 2,
   "metadata": {
    "collapsed": false
   },
   "outputs": [
    {
     "data": {
      "text/plain": [
       "0    1\n",
       "1    1\n",
       "2    1\n",
       "3    2\n",
       "4    2\n",
       "5    3\n",
       "Name: number, dtype: int64"
      ]
     },
     "execution_count": 2,
     "metadata": {},
     "output_type": "execute_result"
    }
   ],
   "source": [
    "number = pd.DataFrame({'number': [1, 1, 1, 2, 2, 3]}).number\n",
    "number"
   ]
  },
  {
   "cell_type": "markdown",
   "metadata": {},
   "source": [
    "1. 주사위를 굴렸을 때 1이 나올 확률: PMF(1) = 1/2\n",
    "1. 주사위를 굴렸을 때 2가 나올 확률: PMF(2) = 1/3\n",
    "1. 주사위를 굴렸을 때 3이 나올 확률: PMF(3) = 1/6"
   ]
  },
  {
   "cell_type": "code",
   "execution_count": 3,
   "metadata": {
    "collapsed": false
   },
   "outputs": [
    {
     "data": {
      "text/plain": [
       "1    0.500000\n",
       "2    0.333333\n",
       "3    0.166667\n",
       "Name: number, dtype: float64"
      ]
     },
     "execution_count": 3,
     "metadata": {},
     "output_type": "execute_result"
    }
   ],
   "source": [
    "pmf = number.value_counts().sort_index()  # 각 값들의 빈도 수 계산\n",
    "pmf /= pmf.sum()  # 전체 수로 나누어 확률 계산 (normalization)\n",
    "pmf"
   ]
  },
  {
   "cell_type": "code",
   "execution_count": 4,
   "metadata": {
    "collapsed": false
   },
   "outputs": [
    {
     "name": "stdout",
     "output_type": "stream",
     "text": [
      "(0.5, 0.33333333333333331, 0.16666666666666666)\n"
     ]
    }
   ],
   "source": [
    "print(pmf[1], pmf[2], pmf[3])"
   ]
  },
  {
   "cell_type": "markdown",
   "metadata": {},
   "source": [
    "## 성질\n",
    "\n",
    "모든 확률을 다 더하면 1이다."
   ]
  },
  {
   "cell_type": "code",
   "execution_count": 5,
   "metadata": {
    "collapsed": false
   },
   "outputs": [
    {
     "data": {
      "text/plain": [
       "0.99999999999999989"
      ]
     },
     "execution_count": 5,
     "metadata": {},
     "output_type": "execute_result"
    }
   ],
   "source": [
    "pmf.sum()"
   ]
  },
  {
   "cell_type": "markdown",
   "metadata": {},
   "source": [
    "## 연산\n",
    "\n",
    "### 기본 연산"
   ]
  },
  {
   "cell_type": "code",
   "execution_count": 6,
   "metadata": {
    "collapsed": false,
    "scrolled": true
   },
   "outputs": [
    {
     "name": "stdout",
     "output_type": "stream",
     "text": [
      "# index 구하기\n",
      "Int64Index([1, 2, 3], dtype='int64')\n",
      "# 확률 구하기\n",
      "[ 0.5         0.33333333  0.16666667]\n",
      "# 모든 확률 더하기\n",
      "1.0\n"
     ]
    }
   ],
   "source": [
    "print('# index 구하기')\n",
    "print(pmf.index)\n",
    "\n",
    "print('# 확률 구하기')\n",
    "print(pmf.values)\n",
    "\n",
    "print('# 모든 확률 더하기')\n",
    "print(pmf.sum())"
   ]
  },
  {
   "cell_type": "markdown",
   "metadata": {},
   "source": [
    "### Mean 구하기\n",
    "\n",
    "$\\bar{x}$: mean (눈금의 기대값)\n",
    "\n",
    "$x_i$: 눈금의 수\n",
    "\n",
    "$PMF(x_i)$: 눈금이 $x_i$개 나올 확률\n",
    "\n",
    "$$\\bar{x} = \\sum_i PMF(x_i) x_i$$"
   ]
  },
  {
   "cell_type": "code",
   "execution_count": 7,
   "metadata": {
    "collapsed": false
   },
   "outputs": [
    {
     "data": {
      "text/plain": [
       "1.6666666666666665"
      ]
     },
     "execution_count": 7,
     "metadata": {},
     "output_type": "execute_result"
    }
   ],
   "source": [
    "pmf.mul(pmf.index).sum()"
   ]
  },
  {
   "cell_type": "code",
   "execution_count": 9,
   "metadata": {
    "collapsed": false
   },
   "outputs": [
    {
     "data": {
      "text/plain": [
       "1.6666666666666667"
      ]
     },
     "execution_count": 9,
     "metadata": {},
     "output_type": "execute_result"
    }
   ],
   "source": [
    "number.mean()  # 원 데이터로 구한 mean"
   ]
  },
  {
   "cell_type": "markdown",
   "metadata": {},
   "source": [
    "### Variance 구하기\n",
    "\n",
    "$S^2$: Variance\n",
    "\n",
    "$\\bar{x}$: mean (눈금의 기대값)\n",
    "\n",
    "$x_i$: 눈금의 수\n",
    "\n",
    "$PMF(x_i)$: 눈금이 $x_i$개 나올 확률\n",
    "\n",
    "$$S^2 = \\sum_i PMF(x_i) (x_i − \\bar{x})^2$$"
   ]
  },
  {
   "cell_type": "code",
   "execution_count": 13,
   "metadata": {
    "collapsed": false
   },
   "outputs": [
    {
     "data": {
      "text/plain": [
       "0.55555555555555558"
      ]
     },
     "execution_count": 13,
     "metadata": {},
     "output_type": "execute_result"
    }
   ],
   "source": [
    "pmf.mul((pmf.index - pmf.mul(pmf.index).sum()) * (pmf.index - pmf.mul(pmf.index).sum())).sum()"
   ]
  },
  {
   "cell_type": "code",
   "execution_count": 19,
   "metadata": {
    "collapsed": false
   },
   "outputs": [
    {
     "data": {
      "text/plain": [
       "0.55555555555555558"
      ]
     },
     "execution_count": 19,
     "metadata": {},
     "output_type": "execute_result"
    }
   ],
   "source": [
    "number.values.var()  # 원 데이터로 구한 mean"
   ]
  }
 ],
 "metadata": {
  "anaconda-cloud": {},
  "kernelspec": {
   "display_name": "Python [default]",
   "language": "python",
   "name": "python2"
  },
  "language_info": {
   "codemirror_mode": {
    "name": "ipython",
    "version": 2
   },
   "file_extension": ".py",
   "mimetype": "text/x-python",
   "name": "python",
   "nbconvert_exporter": "python",
   "pygments_lexer": "ipython2",
   "version": "2.7.12"
  }
 },
 "nbformat": 4,
 "nbformat_minor": 0
}
